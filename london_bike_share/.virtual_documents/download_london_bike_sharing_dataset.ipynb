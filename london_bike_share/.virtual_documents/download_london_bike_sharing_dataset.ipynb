


#import pandas
import pandas as pd


#import zipfile library (uses to extract the file downloaded from Kaggle)
import zipfile


path = r"C:\Users\guyal\OneDrive\Documents\London bike sharing dataset\archive.zip"


with zipfile.ZipFile(path, 'r') as file:
    file.extractall()


#read in the csv file as a pandas dataframe:
bike_shares = pd.read_csv('london_merged.csv')








bike_shares.info()


bike_shares


bike_shares.weather_code.value_counts()


bike_shares.season.value_counts()


#changing some column names using a dict :

new_col_names = {
    'timestamp':'time',
    'cnt':'count',
    't1':'real_temp',
    't2':'feels_like_temp',
    'hum':'humidity_percent',
    'wind_speed': 'wind_speed_kph',
    'weather_code':'weather',
    'is_holiday' :'is_holiday',
    'is_weekend':'is_weekend',
    'season':'season'
}

#renaming the specified column names:
bike_shares.columns = bike_shares.columns.map(new_col_names)


bike_shares


#changing 'hunidity_percent' values to values between 0 to 1:
bike_shares.humidity_percent = bike_shares.humidity_percent / 100


#Creating dictionaries for season and weather values to map the specified numerical codes to their corresponding season or weather names:

season_dict = {
    '0.0':'spring',
    '1.0':'summer',
    '2.0':'autumn',
    '3.0':'winter'
}

weather_dict = {
    '1.0':'Clear',
    '2.0':'Scattered clouds',
    '3.0':'Broken clouds',
    '4.0':'Cloudy',
    '7.0':'Rain',
    '10.0':'Rain with thunderstorm',
    '26.0':'Snowfall'
}

#changing season and weather value type to string:
bike_shares.season = bike_shares.season.astype(str)
bike_shares.weather = bike_shares.weather.astype(str)

#mapping the values to the actual written season name or weather:
bike_shares.season = bike_shares.season.map(season_dict)
bike_shares.weather = bike_shares.weather.map(weather_dict)



bike_shares


#writing the final dataframe to an excel:
bike_shares.to_excel('london_bikes_final.xlsx', sheet_name='Data')



