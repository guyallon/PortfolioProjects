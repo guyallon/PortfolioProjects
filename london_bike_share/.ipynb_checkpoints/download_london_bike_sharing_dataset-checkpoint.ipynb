{
 "cells": [
  {
   "cell_type": "markdown",
   "id": "3d1aba15-a129-4cb6-b55b-55fd5d768b10",
   "metadata": {},
   "source": [
    "## This will use to download, clean and manipulate the London bike sharing dataset from Kaggle API"
   ]
  },
  {
   "cell_type": "code",
   "execution_count": 9,
   "id": "2454eb6a-867b-476d-873d-665d61418b9c",
   "metadata": {},
   "outputs": [],
   "source": [
    "#import pandas\n",
    "import pandas as pd"
   ]
  },
  {
   "cell_type": "code",
   "execution_count": 10,
   "id": "ce6dff51-2471-40e1-b148-cca2a196c6d0",
   "metadata": {},
   "outputs": [],
   "source": [
    "#import zipfile library (uses to extract the file downloaded from Kaggle)\n",
    "import zipfile"
   ]
  },
  {
   "cell_type": "code",
   "execution_count": 11,
   "id": "7f35ad91-134e-4e0d-ac13-80b98fca6865",
   "metadata": {},
   "outputs": [],
   "source": [
    "path = r\"C:\\Users\\guyal\\OneDrive\\Documents\\London bike sharing dataset\\archive.zip\""
   ]
  },
  {
   "cell_type": "code",
   "execution_count": 12,
   "id": "a892dc6d-33cc-407d-8912-1d73ee731e43",
   "metadata": {},
   "outputs": [],
   "source": [
    "with zipfile.ZipFile(path, 'r') as file:\n",
    "    file.extractall()"
   ]
  },
  {
   "cell_type": "code",
   "execution_count": null,
   "id": "dd8e3cd6-2798-4afd-aa2e-38f0dc65a52e",
   "metadata": {},
   "outputs": [],
   "source": []
  },
  {
   "cell_type": "code",
   "execution_count": null,
   "id": "f540ad44-fe02-4c73-9f03-1d9cd7616544",
   "metadata": {},
   "outputs": [],
   "source": []
  }
 ],
 "metadata": {
  "kernelspec": {
   "display_name": "Python 3 (ipykernel)",
   "language": "python",
   "name": "python3"
  },
  "language_info": {
   "codemirror_mode": {
    "name": "ipython",
    "version": 3
   },
   "file_extension": ".py",
   "mimetype": "text/x-python",
   "name": "python",
   "nbconvert_exporter": "python",
   "pygments_lexer": "ipython3",
   "version": "3.10.9"
  }
 },
 "nbformat": 4,
 "nbformat_minor": 5
}
